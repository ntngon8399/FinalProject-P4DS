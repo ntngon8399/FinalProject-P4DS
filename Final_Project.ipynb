{
 "cells": [
  {
   "cell_type": "markdown",
   "metadata": {},
   "source": [
    "# FINAL PROJECT"
   ]
  },
  {
   "cell_type": "markdown",
   "metadata": {},
   "source": [
    "# A. Thông Tin Nhóm: "
   ]
  },
  {
   "cell_type": "markdown",
   "metadata": {},
   "source": [
    "## I. Thông tin Thành Viên Nhóm :"
   ]
  },
  {
   "cell_type": "markdown",
   "metadata": {},
   "source": [
    "Họ tên: Trần Hữu Hoàng\n",
    "\n",
    "- MSSV: 18120387\n",
    "\n"
   ]
  },
  {
   "cell_type": "markdown",
   "metadata": {},
   "source": [
    "Họ tên: Nguyễn Thành Ngôn\n",
    "\n",
    "- MSSV: 1712617"
   ]
  },
  {
   "cell_type": "markdown",
   "metadata": {},
   "source": [
    "## II. Phân Công:"
   ]
  },
  {
   "cell_type": "markdown",
   "metadata": {},
   "source": [
    "### Trần Hữu Hoàng Mssv: 18120387"
   ]
  },
  {
   "cell_type": "markdown",
   "metadata": {},
   "source": [
    "#### Khám phá dữ liệu mức cơ bản: \n",
    "- 1.2 tính số dòng số cột.\n",
    "- 1.3 Kiểm tra trùng lắp dữ liệu.\n",
    "- 1.4 liệt kê các kiểu dữ liệu của các cột."
   ]
  },
  {
   "cell_type": "markdown",
   "metadata": {},
   "source": [
    "#### Khám phá dữ liệu nâng cao: \n",
    "- 2.1 Liệt kê top 5 đội bóng có số trận thắng nhiều nhất tính từ 1872-2021? Và top 5 đội bóng có thành tích giao hữu trên sân nhà tốt nhất?\n",
    "- 2.2 Thành tích ghi bàn của đội tuyển Brazil thay đổi như thế nào qua 10 năm gần đây?"
   ]
  },
  {
   "cell_type": "markdown",
   "metadata": {},
   "source": [
    "# B. Đồ Án"
   ]
  },
  {
   "cell_type": "markdown",
   "metadata": {},
   "source": [
    "## I. NGUỒN GỐC DỮ LIỆU"
   ]
  },
  {
   "cell_type": "markdown",
   "metadata": {},
   "source": [
    "### 1. Sơ lược về dữ liệu:"
   ]
  },
  {
   "cell_type": "markdown",
   "metadata": {},
   "source": [
    "Dữ liệu về kết quả các trận đấu bóng đá quốc tế từ năm 1872 cho đến 2021.Các trận đấu từ FIFA World Cup đến FIFI Wild Cup đến các trận giao hữu thông thường. Các trận đấu trong khuôn khổ bóng đá nam và dữ liệu không bao gồm Thế vận hội Olympic hoặc các trận đấu có ít nhất một trong các đội là đội hạng B, đội U-23 quốc gia hoặc đội tuyển của một giải đấu.\n"
   ]
  },
  {
   "cell_type": "markdown",
   "metadata": {},
   "source": [
    "*results.csv gồm các cột: \n",
    "- date - ngày diễn ra trận đấu\n",
    "- home_team - tên của đội chủ nhà\n",
    "- away_team - tên của đội khách\n",
    "- home_score - tỷ số toàn trận của đội chủ nhà bao gồm hiệp phụ, không bao gồm loạt sút luân lưu\n",
    "- away_score - tỷ số toàn trận của đội khách bao gồm hiệp phụ, không bao gồm loạt sút luân lưu\n",
    "- tournament - tên của giải đấu\n",
    "- city - tên thành phố / thị trấn / đơn vị hành chính nơi trận đấu diễn ra\n",
    "- country - tên quốc gia nơi trận đấu diễn ra\n",
    "- neutral - Cột TRUE / FALSE cho biết trận đấu có được diễn ra tại một địa điểm trung lập hay không\n"
   ]
  },
  {
   "cell_type": "markdown",
   "metadata": {},
   "source": [
    "Dữ liệu được public trên "
   ]
  },
  {
   "cell_type": "markdown",
   "metadata": {},
   "source": [
    "https://www.kaggle.com/martj42/international-football-results-from-1872-to-2017?select=results.csv"
   ]
  },
  {
   "cell_type": "markdown",
   "metadata": {},
   "source": [
    "### 2. Thu thập dữ liệu\n"
   ]
  },
  {
   "cell_type": "markdown",
   "metadata": {},
   "source": [
    "Dữ liệu được thu thập từ một số nguồn  như là Wikipedia, rsssf.com và các trang web của các hiệp hội bóng đá cá nhân."
   ]
  },
  {
   "cell_type": "markdown",
   "metadata": {},
   "source": [
    "## II. KHám Phá Dữ Liệu"
   ]
  },
  {
   "cell_type": "markdown",
   "metadata": {},
   "source": [
    "### 1. Khám phá dữ liệu mức cơ bản:\n"
   ]
  },
  {
   "cell_type": "markdown",
   "metadata": {},
   "source": [
    "Iport các thư viện cần thiết."
   ]
  },
  {
   "cell_type": "code",
   "execution_count": 181,
   "metadata": {},
   "outputs": [],
   "source": [
    "import pandas as pd\n",
    "import matplotlib.pyplot as plt\n",
    "import numpy as np"
   ]
  },
  {
   "cell_type": "markdown",
   "metadata": {},
   "source": [
    "#### 1.1 đọc dữ liệu từ file result.csv\n"
   ]
  },
  {
   "cell_type": "code",
   "execution_count": 182,
   "metadata": {},
   "outputs": [
    {
     "data": {
      "text/html": [
       "<div>\n",
       "<style scoped>\n",
       "    .dataframe tbody tr th:only-of-type {\n",
       "        vertical-align: middle;\n",
       "    }\n",
       "\n",
       "    .dataframe tbody tr th {\n",
       "        vertical-align: top;\n",
       "    }\n",
       "\n",
       "    .dataframe thead th {\n",
       "        text-align: right;\n",
       "    }\n",
       "</style>\n",
       "<table border=\"1\" class=\"dataframe\">\n",
       "  <thead>\n",
       "    <tr style=\"text-align: right;\">\n",
       "      <th></th>\n",
       "      <th>date</th>\n",
       "      <th>home_team</th>\n",
       "      <th>away_team</th>\n",
       "      <th>home_score</th>\n",
       "      <th>away_score</th>\n",
       "      <th>tournament</th>\n",
       "      <th>city</th>\n",
       "      <th>country</th>\n",
       "      <th>neutral</th>\n",
       "    </tr>\n",
       "  </thead>\n",
       "  <tbody>\n",
       "    <tr>\n",
       "      <th>0</th>\n",
       "      <td>1872-11-30</td>\n",
       "      <td>Scotland</td>\n",
       "      <td>England</td>\n",
       "      <td>0.0</td>\n",
       "      <td>0.0</td>\n",
       "      <td>Friendly</td>\n",
       "      <td>Glasgow</td>\n",
       "      <td>Scotland</td>\n",
       "      <td>False</td>\n",
       "    </tr>\n",
       "    <tr>\n",
       "      <th>1</th>\n",
       "      <td>1873-03-08</td>\n",
       "      <td>England</td>\n",
       "      <td>Scotland</td>\n",
       "      <td>4.0</td>\n",
       "      <td>2.0</td>\n",
       "      <td>Friendly</td>\n",
       "      <td>London</td>\n",
       "      <td>England</td>\n",
       "      <td>False</td>\n",
       "    </tr>\n",
       "    <tr>\n",
       "      <th>2</th>\n",
       "      <td>1874-03-07</td>\n",
       "      <td>Scotland</td>\n",
       "      <td>England</td>\n",
       "      <td>2.0</td>\n",
       "      <td>1.0</td>\n",
       "      <td>Friendly</td>\n",
       "      <td>Glasgow</td>\n",
       "      <td>Scotland</td>\n",
       "      <td>False</td>\n",
       "    </tr>\n",
       "    <tr>\n",
       "      <th>3</th>\n",
       "      <td>1875-03-06</td>\n",
       "      <td>England</td>\n",
       "      <td>Scotland</td>\n",
       "      <td>2.0</td>\n",
       "      <td>2.0</td>\n",
       "      <td>Friendly</td>\n",
       "      <td>London</td>\n",
       "      <td>England</td>\n",
       "      <td>False</td>\n",
       "    </tr>\n",
       "    <tr>\n",
       "      <th>4</th>\n",
       "      <td>1876-03-04</td>\n",
       "      <td>Scotland</td>\n",
       "      <td>England</td>\n",
       "      <td>3.0</td>\n",
       "      <td>0.0</td>\n",
       "      <td>Friendly</td>\n",
       "      <td>Glasgow</td>\n",
       "      <td>Scotland</td>\n",
       "      <td>False</td>\n",
       "    </tr>\n",
       "  </tbody>\n",
       "</table>\n",
       "</div>"
      ],
      "text/plain": [
       "         date home_team away_team  home_score  away_score tournament     city  \\\n",
       "0  1872-11-30  Scotland   England         0.0         0.0   Friendly  Glasgow   \n",
       "1  1873-03-08   England  Scotland         4.0         2.0   Friendly   London   \n",
       "2  1874-03-07  Scotland   England         2.0         1.0   Friendly  Glasgow   \n",
       "3  1875-03-06   England  Scotland         2.0         2.0   Friendly   London   \n",
       "4  1876-03-04  Scotland   England         3.0         0.0   Friendly  Glasgow   \n",
       "\n",
       "    country neutral  \n",
       "0  Scotland   False  \n",
       "1   England   False  \n",
       "2  Scotland   False  \n",
       "3   England   False  \n",
       "4  Scotland   False  "
      ]
     },
     "execution_count": 182,
     "metadata": {},
     "output_type": "execute_result"
    }
   ],
   "source": [
    "fb_df = pd.read_csv('results.csv') \n",
    "fb_df.head()"
   ]
  },
  {
   "cell_type": "markdown",
   "metadata": {},
   "source": [
    "#### 1.2 số dòng và cột của dữ liệu"
   ]
  },
  {
   "cell_type": "code",
   "execution_count": 183,
   "metadata": {},
   "outputs": [
    {
     "name": "stdout",
     "output_type": "stream",
     "text": [
      "num_rows: \n",
      "42405\n",
      "num_cols: \n",
      "9\n"
     ]
    }
   ],
   "source": [
    "num_rows, num_cols = fb_df.shape\n",
    "print('num_rows: ')\n",
    "print(num_rows)\n",
    "print('num_cols: ')\n",
    "print(num_cols)"
   ]
  },
  {
   "cell_type": "markdown",
   "metadata": {},
   "source": [
    "#### 1.3 kiểm tra các dòng dữ liệu có bị trùng lắp hay không\n"
   ]
  },
  {
   "cell_type": "code",
   "execution_count": 184,
   "metadata": {},
   "outputs": [
    {
     "data": {
      "text/plain": [
       "False"
      ]
     },
     "execution_count": 184,
     "metadata": {},
     "output_type": "execute_result"
    }
   ],
   "source": [
    "have_duplicated_rows = any(fb_df.duplicated())\n",
    "have_duplicated_rows"
   ]
  },
  {
   "cell_type": "markdown",
   "metadata": {},
   "source": [
    "#### 1.4 liệt kê kiểu dữ liệu của các cột:"
   ]
  },
  {
   "cell_type": "code",
   "execution_count": 185,
   "metadata": {},
   "outputs": [
    {
     "data": {
      "text/plain": [
       "date           object\n",
       "home_team      object\n",
       "away_team      object\n",
       "home_score    float64\n",
       "away_score    float64\n",
       "tournament     object\n",
       "city           object\n",
       "country        object\n",
       "neutral        object\n",
       "dtype: object"
      ]
     },
     "execution_count": 185,
     "metadata": {},
     "output_type": "execute_result"
    }
   ],
   "source": [
    "col_dtypes = fb_df.dtypes\n",
    "col_dtypes"
   ]
  },
  {
   "cell_type": "markdown",
   "metadata": {},
   "source": [
    "- chuyển dữ liệu cột date về dạng datetime"
   ]
  },
  {
   "cell_type": "code",
   "execution_count": 186,
   "metadata": {},
   "outputs": [
    {
     "data": {
      "text/plain": [
       "1872"
      ]
     },
     "execution_count": 186,
     "metadata": {},
     "output_type": "execute_result"
    }
   ],
   "source": [
    "fb_df['date'] = pd.to_datetime(fb_df['date'])\n",
    "fb_df['date'].dt.year.min()"
   ]
  },
  {
   "cell_type": "markdown",
   "metadata": {},
   "source": [
    "## 2. Xử lý dữ liệu nâng cao\n"
   ]
  },
  {
   "cell_type": "markdown",
   "metadata": {},
   "source": [
    "### 2.1 Liệt kê top 5 đội bóng có số trận thắng nhiều nhất tính từ 1872-2021? Và top 5 đội bóng có thành tích giao hữu trên sân nhà tốt nhất?\n"
   ]
  },
  {
   "cell_type": "markdown",
   "metadata": {},
   "source": [
    "### Tiền xử Lý"
   ]
  },
  {
   "cell_type": "markdown",
   "metadata": {},
   "source": [
    "#### Để trả lời cho 2 câu hỏi trên chúng ta cần thêm cột dữ liệu  win_team:\n",
    "- cột win_team chưa thông tin về tên đội tuyển giành thắng lợi. Nếu kết quả thi đấu là hòa nhau thì cột win_team chứa giá trị là NaN."
   ]
  },
  {
   "cell_type": "markdown",
   "metadata": {},
   "source": [
    "##### Thêm vào cột chứa tên đội tuyển giành chiến thắng:\n",
    "- Đầu tiên chúng ta gán cho cột win_team tên của đội tuyển của cột home_team có home_score > away_score\n",
    "- Sau đó dùng hàm fillna các giá trị NaN bằng tên của đội tuyển của cột away_team có away_score > home_score\n",
    "- các giá trị NaN còn lại tương ứng kết quả trận đấu là Hòa."
   ]
  },
  {
   "cell_type": "code",
   "execution_count": 187,
   "metadata": {},
   "outputs": [
    {
     "data": {
      "text/html": [
       "<div>\n",
       "<style scoped>\n",
       "    .dataframe tbody tr th:only-of-type {\n",
       "        vertical-align: middle;\n",
       "    }\n",
       "\n",
       "    .dataframe tbody tr th {\n",
       "        vertical-align: top;\n",
       "    }\n",
       "\n",
       "    .dataframe thead th {\n",
       "        text-align: right;\n",
       "    }\n",
       "</style>\n",
       "<table border=\"1\" class=\"dataframe\">\n",
       "  <thead>\n",
       "    <tr style=\"text-align: right;\">\n",
       "      <th></th>\n",
       "      <th>date</th>\n",
       "      <th>home_team</th>\n",
       "      <th>away_team</th>\n",
       "      <th>home_score</th>\n",
       "      <th>away_score</th>\n",
       "      <th>tournament</th>\n",
       "      <th>city</th>\n",
       "      <th>country</th>\n",
       "      <th>neutral</th>\n",
       "      <th>win_team</th>\n",
       "    </tr>\n",
       "  </thead>\n",
       "  <tbody>\n",
       "    <tr>\n",
       "      <th>0</th>\n",
       "      <td>1872-11-30</td>\n",
       "      <td>Scotland</td>\n",
       "      <td>England</td>\n",
       "      <td>0.0</td>\n",
       "      <td>0.0</td>\n",
       "      <td>Friendly</td>\n",
       "      <td>Glasgow</td>\n",
       "      <td>Scotland</td>\n",
       "      <td>False</td>\n",
       "      <td>NaN</td>\n",
       "    </tr>\n",
       "    <tr>\n",
       "      <th>1</th>\n",
       "      <td>1873-03-08</td>\n",
       "      <td>England</td>\n",
       "      <td>Scotland</td>\n",
       "      <td>4.0</td>\n",
       "      <td>2.0</td>\n",
       "      <td>Friendly</td>\n",
       "      <td>London</td>\n",
       "      <td>England</td>\n",
       "      <td>False</td>\n",
       "      <td>England</td>\n",
       "    </tr>\n",
       "    <tr>\n",
       "      <th>2</th>\n",
       "      <td>1874-03-07</td>\n",
       "      <td>Scotland</td>\n",
       "      <td>England</td>\n",
       "      <td>2.0</td>\n",
       "      <td>1.0</td>\n",
       "      <td>Friendly</td>\n",
       "      <td>Glasgow</td>\n",
       "      <td>Scotland</td>\n",
       "      <td>False</td>\n",
       "      <td>Scotland</td>\n",
       "    </tr>\n",
       "    <tr>\n",
       "      <th>3</th>\n",
       "      <td>1875-03-06</td>\n",
       "      <td>England</td>\n",
       "      <td>Scotland</td>\n",
       "      <td>2.0</td>\n",
       "      <td>2.0</td>\n",
       "      <td>Friendly</td>\n",
       "      <td>London</td>\n",
       "      <td>England</td>\n",
       "      <td>False</td>\n",
       "      <td>NaN</td>\n",
       "    </tr>\n",
       "    <tr>\n",
       "      <th>4</th>\n",
       "      <td>1876-03-04</td>\n",
       "      <td>Scotland</td>\n",
       "      <td>England</td>\n",
       "      <td>3.0</td>\n",
       "      <td>0.0</td>\n",
       "      <td>Friendly</td>\n",
       "      <td>Glasgow</td>\n",
       "      <td>Scotland</td>\n",
       "      <td>False</td>\n",
       "      <td>Scotland</td>\n",
       "    </tr>\n",
       "  </tbody>\n",
       "</table>\n",
       "</div>"
      ],
      "text/plain": [
       "        date home_team away_team  home_score  away_score tournament     city  \\\n",
       "0 1872-11-30  Scotland   England         0.0         0.0   Friendly  Glasgow   \n",
       "1 1873-03-08   England  Scotland         4.0         2.0   Friendly   London   \n",
       "2 1874-03-07  Scotland   England         2.0         1.0   Friendly  Glasgow   \n",
       "3 1875-03-06   England  Scotland         2.0         2.0   Friendly   London   \n",
       "4 1876-03-04  Scotland   England         3.0         0.0   Friendly  Glasgow   \n",
       "\n",
       "    country neutral  win_team  \n",
       "0  Scotland   False       NaN  \n",
       "1   England   False   England  \n",
       "2  Scotland   False  Scotland  \n",
       "3   England   False       NaN  \n",
       "4  Scotland   False  Scotland  "
      ]
     },
     "execution_count": 187,
     "metadata": {},
     "output_type": "execute_result"
    }
   ],
   "source": [
    "fb_df = fb_df.assign(win_team = fb_df[(fb_df['home_score'] > fb_df['away_score'])]['home_team']) \n",
    "fb_df['win_team'] = fb_df['win_team'].fillna(fb_df[(fb_df['home_score'] < fb_df['away_score'])]['away_team'])\n",
    "fb_df.head()"
   ]
  },
  {
   "cell_type": "markdown",
   "metadata": {},
   "source": [
    "### Trả lời câu Hỏi"
   ]
  },
  {
   "cell_type": "markdown",
   "metadata": {},
   "source": [
    "##### top 5 đội bóng có số trận thắng nhiều nhất: \n",
    "Dưới đây sẽ liệt kê 5 theo thứ tự có số trận thắng nhiều thứ 1 đến nhiều thứ 2... gán vào biến top5_win_team"
   ]
  },
  {
   "cell_type": "code",
   "execution_count": 188,
   "metadata": {},
   "outputs": [
    {
     "data": {
      "text/plain": [
       "['Brazil', 'England', 'Germany', 'Argentina', 'Sweden']"
      ]
     },
     "execution_count": 188,
     "metadata": {},
     "output_type": "execute_result"
    }
   ],
   "source": [
    "top5_win_team = fb_df['win_team'].value_counts()[:5].index.to_list()\n",
    "top5_win_team"
   ]
  },
  {
   "cell_type": "markdown",
   "metadata": {},
   "source": [
    "##### top 5 đội bóng có thành tích giao hữu tốt nhất:\n",
    "Dưới đây sẽ liệt kê 5 theo thứ tự có số trận thắng nhiều thứ 1 đến nhiều thứ 2... gán vào biến top5_team_friendly"
   ]
  },
  {
   "cell_type": "code",
   "execution_count": 189,
   "metadata": {},
   "outputs": [
    {
     "data": {
      "text/plain": [
       "['Germany', 'Brazil', 'Hungary', 'Sweden', 'England']"
      ]
     },
     "execution_count": 189,
     "metadata": {},
     "output_type": "execute_result"
    }
   ],
   "source": [
    "top5_team_friendly = fb_df[(fb_df['tournament'] =='Friendly')]['win_team'].value_counts()[:5].index.to_list()\n",
    "top5_team_friendly"
   ]
  },
  {
   "cell_type": "markdown",
   "metadata": {},
   "source": [
    "### 2.2 Thành tích ghi bàn của đội tuyển Brazil thay đổi như thế nào qua 10 năm gần đây?"
   ]
  },
  {
   "cell_type": "markdown",
   "metadata": {},
   "source": [
    "### Tiền Xử Lý"
   ]
  },
  {
   "cell_type": "markdown",
   "metadata": {},
   "source": [
    "##### Thêm cột year vào fb_df"
   ]
  },
  {
   "cell_type": "code",
   "execution_count": 190,
   "metadata": {},
   "outputs": [
    {
     "data": {
      "text/plain": [
       "2021"
      ]
     },
     "execution_count": 190,
     "metadata": {},
     "output_type": "execute_result"
    }
   ],
   "source": [
    "fb_df = fb_df.assign(year = fb_df['date'].dt.year)\n",
    "fb_df['year'].max()"
   ]
  },
  {
   "cell_type": "markdown",
   "metadata": {},
   "source": [
    "#### Tính số bàn thắng của đội tuyển brazil trong 10 năm gần đây:\n",
    "- Đầu Tiên ta tính tổng số bàn thắng với tư cách là home_team và lưu vào biến Brazil_score_each_year.\n",
    "- Sau đó cộng thêm bàn thắng với tư cách là away_team và lưu vào biến Brazil_score_each_year.\n",
    "- lấy danh sách 10 năm gần đây và lưu vào biến Brazil_score_10_year"
   ]
  },
  {
   "cell_type": "code",
   "execution_count": 191,
   "metadata": {},
   "outputs": [
    {
     "data": {
      "text/plain": [
       "year\n",
       "2012    38.0\n",
       "2013    49.0\n",
       "2014    33.0\n",
       "2015    20.0\n",
       "2016    28.0\n",
       "2017    21.0\n",
       "2018    29.0\n",
       "2019    33.0\n",
       "2020    12.0\n",
       "2021    15.0\n",
       "Name: home_score, dtype: float64"
      ]
     },
     "execution_count": 191,
     "metadata": {},
     "output_type": "execute_result"
    }
   ],
   "source": [
    "Brazil_score_each_year = fb_df[(fb_df['home_team'] == 'Brazil')]['home_score'].groupby(fb_df['year']).sum()\n",
    "Brazil_score_each_year += fb_df[(fb_df['away_team'] == 'Brazil')]['away_score'].groupby(fb_df['year']).sum()\n",
    "Brazil_score_10_year = team_score_each_year.iloc[-10:92]\n",
    "Brazil_score_10_year"
   ]
  },
  {
   "cell_type": "markdown",
   "metadata": {},
   "source": [
    "#### Đồ thị cột thể hiện số bàn thắng ghi được của đội tuyển Brazil trong 10 năm gần đây:"
   ]
  },
  {
   "cell_type": "code",
   "execution_count": 192,
   "metadata": {},
   "outputs": [
    {
     "data": {
      "image/png": "[encoded data removed]",
      "text/plain": [
       "<Figure size 432x288 with 1 Axes>"
      ]
     },
     "metadata": {
      "needs_background": "light"
     },
     "output_type": "display_data"
    }
   ],
   "source": [
    "Brazil_score_10_year.plot(kind = \"bar\")\n",
    "plt.ylabel('Score')\n",
    "plt.xlabel('Year');"
   ]
  }
 ],
 "metadata": {
  "kernelspec": {
   "display_name": "Python 3",
   "language": "python",
   "name": "python3"
  },
  "language_info": {
   "codemirror_mode": {
    "name": "ipython",
    "version": 3
   },
   "file_extension": ".py",
   "mimetype": "text/x-python",
   "name": "python",
   "nbconvert_exporter": "python",
   "pygments_lexer": "ipython3",
   "version": "3.8.5"
  }
 },
 "nbformat": 4,
 "nbformat_minor": 4
}
