{
 "cells": [
  {
   "cell_type": "markdown",
   "metadata": {},
   "source": [
    "# FINAL PROJECT"
   ]
  },
  {
   "cell_type": "markdown",
   "metadata": {},
   "source": [
    "# A. Thông Tin Nhóm: "
   ]
  },
  {
   "cell_type": "markdown",
   "metadata": {},
   "source": [
    "## I. Thông tin Thành Viên Nhóm :"
   ]
  },
  {
   "cell_type": "markdown",
   "metadata": {},
   "source": [
    "Họ tên: Trần Hữu Hoàng\n",
    "\n",
    "- MSSV: 18120387\n",
    "\n"
   ]
  },
  {
   "cell_type": "markdown",
   "metadata": {},
   "source": [
    "Họ tên: Nguyễn Thành Ngôn\n",
    "\n",
    "- MSSV: 1712617"
   ]
  },
  {
   "cell_type": "markdown",
   "metadata": {},
   "source": [
    "## II. Phân Công:"
   ]
  },
  {
   "cell_type": "markdown",
   "metadata": {},
   "source": [
    "### Trần Hữu Hoàng MSSV: 18120387"
   ]
  },
  {
   "cell_type": "markdown",
   "metadata": {},
   "source": [
    "#### Khám phá dữ liệu nâng cao: \n",
    "1. Liệt kê top 5 đội bóng có số trận thắng nhiều nhất tính từ 1872-2021? Và top 5 đội bóng có thành tích giao hữu trên sân nhà tốt nhất?\n",
    "2. Thành tích ghi bàn của đội tuyển Brazil thay đổi như thế nào qua 10 năm gần đây?"
   ]
  },
  {
   "cell_type": "markdown",
   "metadata": {},
   "source": [
    "### Nguyễn Thành Ngôn - MSSV: 1712617"
   ]
  },
  {
   "cell_type": "markdown",
   "metadata": {},
   "source": [
    "#### Khám phá dữ liệu nâng cao:\n",
    "3. Top 5 đội bóng mạnh nhất giai đoạn 1872-2021?\n",
    "4. Tỉ lệ thắng của các đội tham gia Euro 2020?"
   ]
  },
  {
   "cell_type": "markdown",
   "metadata": {},
   "source": [
    "# B. Đồ Án"
   ]
  },
  {
   "cell_type": "markdown",
   "metadata": {},
   "source": [
    "## I. Thu thập dữ liệu"
   ]
  },
  {
   "cell_type": "markdown",
   "metadata": {},
   "source": [
    "### 1. Chủ đề & Nguồn dữ liệu"
   ]
  },
  {
   "cell_type": "markdown",
   "metadata": {},
   "source": [
    "- Chủ đề: Thông tin các trận đấu bóng đá quốc tế\n",
    "- Nguồn dữ liệu: Tập dữ liệu được lấy từ Kaggle: [International football results from 1872 to 2021](https://www.kaggle.com/martj42/international-football-results-from-1872-to-2017), trong phạm vi đồ án chỉ sử dụng file `results.csv`\n",
    "- Sơ lược: Dữ liệu về kết quả các trận đấu bóng đá quốc tế từ năm 1872 cho đến 2021.Các trận đấu từ FIFA World Cup đến FIFI Wild Cup đến các trận giao hữu thông thường. Các trận đấu trong khuôn khổ bóng đá nam và dữ liệu không bao gồm Thế vận hội Olympic hoặc các trận đấu có ít nhất một trong các đội là đội hạng B, đội U-23 quốc gia hoặc đội tuyển của một giải đấu.\n"
   ]
  },
  {
   "cell_type": "markdown",
   "metadata": {},
   "source": [
    "### 2. License"
   ]
  },
  {
   "cell_type": "markdown",
   "metadata": {},
   "source": [
    "- CC0: Public Domain -> có thể sử dụng"
   ]
  },
  {
   "cell_type": "markdown",
   "metadata": {},
   "source": [
    "### 3. Người ta thu thập dữ liệu như thế nào?"
   ]
  },
  {
   "cell_type": "markdown",
   "metadata": {},
   "source": [
    "- Dữ liệu được thu thập từ một số nguồn  như là Wikipedia, rsssf.com và các trang web của các hiệp hội bóng đá cá nhân."
   ]
  },
  {
   "cell_type": "markdown",
   "metadata": {},
   "source": [
    "## II. Khám Phá Dữ Liệu & Tiền xử lí"
   ]
  },
  {
   "cell_type": "markdown",
   "metadata": {},
   "source": [
    "### Import các thư viện cần thiết"
   ]
  },
  {
   "cell_type": "code",
   "execution_count": 15,
   "metadata": {},
   "outputs": [],
   "source": [
    "import pandas as pd\n",
    "import matplotlib.pyplot as plt\n",
    "import numpy as np"
   ]
  },
  {
   "cell_type": "markdown",
   "metadata": {},
   "source": [
    "### Đọc dữ liệu từ file `results.csv`"
   ]
  },
  {
   "cell_type": "code",
   "execution_count": 16,
   "metadata": {},
   "outputs": [
    {
     "data": {
      "text/html": [
       "<div>\n",
       "<style scoped>\n",
       "    .dataframe tbody tr th:only-of-type {\n",
       "        vertical-align: middle;\n",
       "    }\n",
       "\n",
       "    .dataframe tbody tr th {\n",
       "        vertical-align: top;\n",
       "    }\n",
       "\n",
       "    .dataframe thead th {\n",
       "        text-align: right;\n",
       "    }\n",
       "</style>\n",
       "<table border=\"1\" class=\"dataframe\">\n",
       "  <thead>\n",
       "    <tr style=\"text-align: right;\">\n",
       "      <th></th>\n",
       "      <th>date</th>\n",
       "      <th>home_team</th>\n",
       "      <th>away_team</th>\n",
       "      <th>home_score</th>\n",
       "      <th>away_score</th>\n",
       "      <th>tournament</th>\n",
       "      <th>city</th>\n",
       "      <th>country</th>\n",
       "      <th>neutral</th>\n",
       "    </tr>\n",
       "  </thead>\n",
       "  <tbody>\n",
       "    <tr>\n",
       "      <th>0</th>\n",
       "      <td>1872-11-30</td>\n",
       "      <td>Scotland</td>\n",
       "      <td>England</td>\n",
       "      <td>0.0</td>\n",
       "      <td>0.0</td>\n",
       "      <td>Friendly</td>\n",
       "      <td>Glasgow</td>\n",
       "      <td>Scotland</td>\n",
       "      <td>False</td>\n",
       "    </tr>\n",
       "    <tr>\n",
       "      <th>1</th>\n",
       "      <td>1873-03-08</td>\n",
       "      <td>England</td>\n",
       "      <td>Scotland</td>\n",
       "      <td>4.0</td>\n",
       "      <td>2.0</td>\n",
       "      <td>Friendly</td>\n",
       "      <td>London</td>\n",
       "      <td>England</td>\n",
       "      <td>False</td>\n",
       "    </tr>\n",
       "    <tr>\n",
       "      <th>2</th>\n",
       "      <td>1874-03-07</td>\n",
       "      <td>Scotland</td>\n",
       "      <td>England</td>\n",
       "      <td>2.0</td>\n",
       "      <td>1.0</td>\n",
       "      <td>Friendly</td>\n",
       "      <td>Glasgow</td>\n",
       "      <td>Scotland</td>\n",
       "      <td>False</td>\n",
       "    </tr>\n",
       "    <tr>\n",
       "      <th>3</th>\n",
       "      <td>1875-03-06</td>\n",
       "      <td>England</td>\n",
       "      <td>Scotland</td>\n",
       "      <td>2.0</td>\n",
       "      <td>2.0</td>\n",
       "      <td>Friendly</td>\n",
       "      <td>London</td>\n",
       "      <td>England</td>\n",
       "      <td>False</td>\n",
       "    </tr>\n",
       "    <tr>\n",
       "      <th>4</th>\n",
       "      <td>1876-03-04</td>\n",
       "      <td>Scotland</td>\n",
       "      <td>England</td>\n",
       "      <td>3.0</td>\n",
       "      <td>0.0</td>\n",
       "      <td>Friendly</td>\n",
       "      <td>Glasgow</td>\n",
       "      <td>Scotland</td>\n",
       "      <td>False</td>\n",
       "    </tr>\n",
       "  </tbody>\n",
       "</table>\n",
       "</div>"
      ],
      "text/plain": [
       "         date home_team away_team  home_score  away_score tournament     city  \\\n",
       "0  1872-11-30  Scotland   England         0.0         0.0   Friendly  Glasgow   \n",
       "1  1873-03-08   England  Scotland         4.0         2.0   Friendly   London   \n",
       "2  1874-03-07  Scotland   England         2.0         1.0   Friendly  Glasgow   \n",
       "3  1875-03-06   England  Scotland         2.0         2.0   Friendly   London   \n",
       "4  1876-03-04  Scotland   England         3.0         0.0   Friendly  Glasgow   \n",
       "\n",
       "    country neutral  \n",
       "0  Scotland   False  \n",
       "1   England   False  \n",
       "2  Scotland   False  \n",
       "3   England   False  \n",
       "4  Scotland   False  "
      ]
     },
     "execution_count": 16,
     "metadata": {},
     "output_type": "execute_result"
    }
   ],
   "source": [
    "fb_df = pd.read_csv('results.csv') \n",
    "fb_df.head()"
   ]
  },
  {
   "cell_type": "markdown",
   "metadata": {},
   "source": [
    "### Dữ liệu có bao nhiêu dòng & bao nhiêu cột?"
   ]
  },
  {
   "cell_type": "code",
   "execution_count": 17,
   "metadata": {},
   "outputs": [],
   "source": [
    "num_rows, num_cols =  fb_df.shape"
   ]
  },
  {
   "cell_type": "code",
   "execution_count": 18,
   "metadata": {},
   "outputs": [],
   "source": [
    "assert num_rows == 42405\n",
    "assert num_cols == 9"
   ]
  },
  {
   "cell_type": "markdown",
   "metadata": {},
   "source": [
    "- Dữ liệu có 42405 dòng và 9 cột"
   ]
  },
  {
   "cell_type": "markdown",
   "metadata": {},
   "source": [
    "### Mỗi dòng có ý nghĩa gì? Có vấn đề các dòng có ý nghĩa khác nhau hay không?"
   ]
  },
  {
   "cell_type": "markdown",
   "metadata": {},
   "source": [
    "- Theo quan sát sơ bộ về dữ liệu thì mỗi dòng cho biết thông tin của một trận bóng đá và không có dòng nào có ý nghĩa khác biệt"
   ]
  },
  {
   "cell_type": "markdown",
   "metadata": {},
   "source": [
    "### Dữ liệu có các dòng bị lặp hay không?"
   ]
  },
  {
   "cell_type": "code",
   "execution_count": 19,
   "metadata": {},
   "outputs": [],
   "source": [
    "have_duplicated_rows = any(fb_df.duplicated())\n"
   ]
  },
  {
   "cell_type": "code",
   "execution_count": 20,
   "metadata": {},
   "outputs": [],
   "source": [
    "assert have_duplicated_rows == False"
   ]
  },
  {
   "cell_type": "markdown",
   "metadata": {},
   "source": [
    "- Không có dữ liệu bị lặp"
   ]
  },
  {
   "cell_type": "markdown",
   "metadata": {},
   "source": [
    "### Mỗi cột có ý nghĩa gì?"
   ]
  },
  {
   "cell_type": "markdown",
   "metadata": {},
   "source": [
    "`results.csv` gồm các cột: \n",
    "- **date** - ngày diễn ra trận đấu\n",
    "- **home_team** - tên của đội chủ nhà\n",
    "- **away_team** - tên của đội khách\n",
    "- **home_score** - tỷ số toàn trận của đội chủ nhà bao gồm hiệp phụ, không bao gồm loạt sút luân lưu\n",
    "- **away_score** - tỷ số toàn trận của đội khách bao gồm hiệp phụ, không bao gồm loạt sút luân lưu\n",
    "- **tournament** - tên của giải đấu\n",
    "- **city** - tên thành phố / thị trấn / đơn vị hành chính nơi trận đấu diễn ra\n",
    "- **country** - tên quốc gia nơi trận đấu diễn ra\n",
    "- **neutral** - Cột TRUE / FALSE cho biết trận đấu có được diễn ra tại một địa điểm trung lập hay không\n"
   ]
  },
  {
   "cell_type": "markdown",
   "metadata": {},
   "source": [
    "### Mỗi cột hiện đang có kiểu dữ liệu gì? Có cột nào có kiểu dữ liệu chưa phù hợp để có thể xử lí tiếp không?"
   ]
  },
  {
   "cell_type": "code",
   "execution_count": 21,
   "metadata": {},
   "outputs": [
    {
     "data": {
      "text/plain": [
       "date           object\n",
       "home_team      object\n",
       "away_team      object\n",
       "home_score    float64\n",
       "away_score    float64\n",
       "tournament     object\n",
       "city           object\n",
       "country        object\n",
       "neutral        object\n",
       "dtype: object"
      ]
     },
     "execution_count": 21,
     "metadata": {},
     "output_type": "execute_result"
    }
   ],
   "source": [
    "fb_df.dtypes"
   ]
  },
  {
   "cell_type": "markdown",
   "metadata": {},
   "source": [
    "**Vấn đề cần tiền xử lí**\n",
    "- Cột \"date\" đang có dtype là `object`, để có thể khám phá tiếp cột này -> chuyển sang dạng `datetime`"
   ]
  },
  {
   "cell_type": "markdown",
   "metadata": {},
   "source": [
    "## Tiền xử lí"
   ]
  },
  {
   "cell_type": "markdown",
   "metadata": {},
   "source": [
    "#### Chuyển dtype của cột \"date\" sang `datetime`"
   ]
  },
  {
   "cell_type": "code",
   "execution_count": 38,
   "metadata": {},
   "outputs": [],
   "source": [
    "fb_df['date'] = pd.to_datetime(fb_df['date'])"
   ]
  },
  {
   "cell_type": "markdown",
   "metadata": {},
   "source": [
    "### Với mỗi cột có kiểu dữ liệu dạng numeric, các giá trị được phân bố như thế nào?"
   ]
  },
  {
   "cell_type": "code",
   "execution_count": 36,
   "metadata": {},
   "outputs": [
    {
     "data": {
      "text/html": [
       "<div>\n",
       "<style scoped>\n",
       "    .dataframe tbody tr th:only-of-type {\n",
       "        vertical-align: middle;\n",
       "    }\n",
       "\n",
       "    .dataframe tbody tr th {\n",
       "        vertical-align: top;\n",
       "    }\n",
       "\n",
       "    .dataframe thead th {\n",
       "        text-align: right;\n",
       "    }\n",
       "</style>\n",
       "<table border=\"1\" class=\"dataframe\">\n",
       "  <thead>\n",
       "    <tr style=\"text-align: right;\">\n",
       "      <th></th>\n",
       "      <th>date</th>\n",
       "      <th>home_score</th>\n",
       "      <th>away_score</th>\n",
       "    </tr>\n",
       "  </thead>\n",
       "  <tbody>\n",
       "    <tr>\n",
       "      <th>missing_ratio</th>\n",
       "      <td>0.0</td>\n",
       "      <td>0</td>\n",
       "      <td>0</td>\n",
       "    </tr>\n",
       "    <tr>\n",
       "      <th>min</th>\n",
       "      <td>1872-11-30 00:00:00</td>\n",
       "      <td>0</td>\n",
       "      <td>0</td>\n",
       "    </tr>\n",
       "    <tr>\n",
       "      <th>max</th>\n",
       "      <td>2021-07-11 00:00:00</td>\n",
       "      <td>31</td>\n",
       "      <td>21</td>\n",
       "    </tr>\n",
       "  </tbody>\n",
       "</table>\n",
       "</div>"
      ],
      "text/plain": [
       "                              date  home_score  away_score\n",
       "missing_ratio                  0.0           0           0\n",
       "min            1872-11-30 00:00:00           0           0\n",
       "max            2021-07-11 00:00:00          31          21"
      ]
     },
     "execution_count": 36,
     "metadata": {},
     "output_type": "execute_result"
    }
   ],
   "source": [
    "nume_col_profiles_df = pd.DataFrame({'missing_ratio': fb_df[['date', 'home_score', 'away_score']].isna().mean()*100,\n",
    "                                    'min': fb_df[['date', 'home_score', 'away_score']].min(),\n",
    "                                    'max': fb_df[['date', 'home_score', 'away_score']].max()}).T\n",
    "nume_col_profiles_df['home_score']  = nume_col_profiles_df['home_score'].astype('int')\n",
    "nume_col_profiles_df['away_score']  = nume_col_profiles_df['away_score'].astype('int')\n",
    "nume_col_profiles_df"
   ]
  },
  {
   "cell_type": "markdown",
   "metadata": {},
   "source": [
    "- Tỉ lệ thiếu gần như bằng 0\n",
    "- Min, Max của các cột không có gì bất thường"
   ]
  },
  {
   "cell_type": "markdown",
   "metadata": {},
   "source": [
    "### Với mỗi cột có kiểu dữ liệu dạng categorical, các giá trị được phân bố như thế nào?"
   ]
  },
  {
   "cell_type": "code",
   "execution_count": 37,
   "metadata": {},
   "outputs": [
    {
     "data": {
      "text/html": [
       "<div>\n",
       "<style scoped>\n",
       "    .dataframe tbody tr th:only-of-type {\n",
       "        vertical-align: middle;\n",
       "    }\n",
       "\n",
       "    .dataframe tbody tr th {\n",
       "        vertical-align: top;\n",
       "    }\n",
       "\n",
       "    .dataframe thead th {\n",
       "        text-align: right;\n",
       "    }\n",
       "</style>\n",
       "<table border=\"1\" class=\"dataframe\">\n",
       "  <thead>\n",
       "    <tr style=\"text-align: right;\">\n",
       "      <th></th>\n",
       "      <th>home_team</th>\n",
       "      <th>away_team</th>\n",
       "      <th>tournament</th>\n",
       "      <th>city</th>\n",
       "      <th>country</th>\n",
       "      <th>neutral</th>\n",
       "    </tr>\n",
       "  </thead>\n",
       "  <tbody>\n",
       "    <tr>\n",
       "      <th>missing_ratio</th>\n",
       "      <td>0.007075</td>\n",
       "      <td>0.007075</td>\n",
       "      <td>0.0</td>\n",
       "      <td>0.0</td>\n",
       "      <td>0.0</td>\n",
       "      <td>0.007075</td>\n",
       "    </tr>\n",
       "    <tr>\n",
       "      <th>num_diff_vals</th>\n",
       "      <td>308</td>\n",
       "      <td>305</td>\n",
       "      <td>113</td>\n",
       "      <td>2049</td>\n",
       "      <td>266</td>\n",
       "      <td>2</td>\n",
       "    </tr>\n",
       "    <tr>\n",
       "      <th>diff_vals</th>\n",
       "      <td>[Abkhazia, Afghanistan, Albania, Alderney, Alg...</td>\n",
       "      <td>[Abkhazia, Afghanistan, Albania, Alderney, Alg...</td>\n",
       "      <td>[ABCS Tournament, AFC Asian Cup, AFC Asian Cup...</td>\n",
       "      <td>[6th of October City, Aachen, Aalborg, Aarau, ...</td>\n",
       "      <td>[Afghanistan, Albania, Algeria, Andorra, Angol...</td>\n",
       "      <td>[False, True, nan]</td>\n",
       "    </tr>\n",
       "  </tbody>\n",
       "</table>\n",
       "</div>"
      ],
      "text/plain": [
       "                                                       home_team  \\\n",
       "missing_ratio                                           0.007075   \n",
       "num_diff_vals                                                308   \n",
       "diff_vals      [Abkhazia, Afghanistan, Albania, Alderney, Alg...   \n",
       "\n",
       "                                                       away_team  \\\n",
       "missing_ratio                                           0.007075   \n",
       "num_diff_vals                                                305   \n",
       "diff_vals      [Abkhazia, Afghanistan, Albania, Alderney, Alg...   \n",
       "\n",
       "                                                      tournament  \\\n",
       "missing_ratio                                                0.0   \n",
       "num_diff_vals                                                113   \n",
       "diff_vals      [ABCS Tournament, AFC Asian Cup, AFC Asian Cup...   \n",
       "\n",
       "                                                            city  \\\n",
       "missing_ratio                                                0.0   \n",
       "num_diff_vals                                               2049   \n",
       "diff_vals      [6th of October City, Aachen, Aalborg, Aarau, ...   \n",
       "\n",
       "                                                         country  \\\n",
       "missing_ratio                                                0.0   \n",
       "num_diff_vals                                                266   \n",
       "diff_vals      [Afghanistan, Albania, Algeria, Andorra, Angol...   \n",
       "\n",
       "                          neutral  \n",
       "missing_ratio            0.007075  \n",
       "num_diff_vals                   2  \n",
       "diff_vals      [False, True, nan]  "
      ]
     },
     "execution_count": 37,
     "metadata": {},
     "output_type": "execute_result"
    }
   ],
   "source": [
    "cols = [\"home_team\", \"away_team\", \"tournament\", \"city\", \"country\", \"neutral\"]\n",
    "missing_ratio = fb_df[cols].isna().mean()*100\n",
    "num_diff_vals = fb_df[cols].nunique()\n",
    "diff_vals = fb_df[cols].apply(lambda s: list(s.sort_values().unique()))\n",
    "\n",
    "cate_col_profiles_df = pd.DataFrame({'missing_ratio': missing_ratio, 'num_diff_vals': num_diff_vals, 'diff_vals': diff_vals}).transpose()\n",
    "\n",
    "cate_col_profiles_df"
   ]
  },
  {
   "cell_type": "markdown",
   "metadata": {},
   "source": [
    "## Xử lý dữ liệu nâng cao\n"
   ]
  },
  {
   "cell_type": "markdown",
   "metadata": {},
   "source": [
    "### 1. Liệt kê top 5 đội bóng có số trận thắng nhiều nhất tính từ 1872-2021? Và top 5 đội bóng có thành tích giao hữu trên sân nhà tốt nhất?\n"
   ]
  },
  {
   "cell_type": "markdown",
   "metadata": {},
   "source": [
    "### Tiền xử Lý"
   ]
  },
  {
   "cell_type": "markdown",
   "metadata": {},
   "source": [
    "#### Để trả lời cho 2 câu hỏi trên chúng ta cần thêm cột dữ liệu  win_team:\n",
    "- cột win_team chưa thông tin về tên đội tuyển giành thắng lợi. Nếu kết quả thi đấu là hòa nhau thì cột win_team chứa giá trị là NaN."
   ]
  },
  {
   "cell_type": "markdown",
   "metadata": {},
   "source": [
    "##### Thêm vào cột chứa tên đội tuyển giành chiến thắng:\n",
    "- Đầu tiên chúng ta gán cho cột win_team tên của đội tuyển của cột home_team có home_score > away_score\n",
    "- Sau đó dùng hàm fillna các giá trị NaN bằng tên của đội tuyển của cột away_team có away_score > home_score\n",
    "- các giá trị NaN còn lại tương ứng kết quả trận đấu là Hòa."
   ]
  },
  {
   "cell_type": "code",
   "execution_count": 24,
   "metadata": {},
   "outputs": [
    {
     "data": {
      "text/html": [
       "<div>\n",
       "<style scoped>\n",
       "    .dataframe tbody tr th:only-of-type {\n",
       "        vertical-align: middle;\n",
       "    }\n",
       "\n",
       "    .dataframe tbody tr th {\n",
       "        vertical-align: top;\n",
       "    }\n",
       "\n",
       "    .dataframe thead th {\n",
       "        text-align: right;\n",
       "    }\n",
       "</style>\n",
       "<table border=\"1\" class=\"dataframe\">\n",
       "  <thead>\n",
       "    <tr style=\"text-align: right;\">\n",
       "      <th></th>\n",
       "      <th>date</th>\n",
       "      <th>home_team</th>\n",
       "      <th>away_team</th>\n",
       "      <th>home_score</th>\n",
       "      <th>away_score</th>\n",
       "      <th>tournament</th>\n",
       "      <th>city</th>\n",
       "      <th>country</th>\n",
       "      <th>neutral</th>\n",
       "      <th>win_team</th>\n",
       "    </tr>\n",
       "  </thead>\n",
       "  <tbody>\n",
       "    <tr>\n",
       "      <th>0</th>\n",
       "      <td>1872-11-30</td>\n",
       "      <td>Scotland</td>\n",
       "      <td>England</td>\n",
       "      <td>0.0</td>\n",
       "      <td>0.0</td>\n",
       "      <td>Friendly</td>\n",
       "      <td>Glasgow</td>\n",
       "      <td>Scotland</td>\n",
       "      <td>False</td>\n",
       "      <td>NaN</td>\n",
       "    </tr>\n",
       "    <tr>\n",
       "      <th>1</th>\n",
       "      <td>1873-03-08</td>\n",
       "      <td>England</td>\n",
       "      <td>Scotland</td>\n",
       "      <td>4.0</td>\n",
       "      <td>2.0</td>\n",
       "      <td>Friendly</td>\n",
       "      <td>London</td>\n",
       "      <td>England</td>\n",
       "      <td>False</td>\n",
       "      <td>England</td>\n",
       "    </tr>\n",
       "    <tr>\n",
       "      <th>2</th>\n",
       "      <td>1874-03-07</td>\n",
       "      <td>Scotland</td>\n",
       "      <td>England</td>\n",
       "      <td>2.0</td>\n",
       "      <td>1.0</td>\n",
       "      <td>Friendly</td>\n",
       "      <td>Glasgow</td>\n",
       "      <td>Scotland</td>\n",
       "      <td>False</td>\n",
       "      <td>Scotland</td>\n",
       "    </tr>\n",
       "    <tr>\n",
       "      <th>3</th>\n",
       "      <td>1875-03-06</td>\n",
       "      <td>England</td>\n",
       "      <td>Scotland</td>\n",
       "      <td>2.0</td>\n",
       "      <td>2.0</td>\n",
       "      <td>Friendly</td>\n",
       "      <td>London</td>\n",
       "      <td>England</td>\n",
       "      <td>False</td>\n",
       "      <td>NaN</td>\n",
       "    </tr>\n",
       "    <tr>\n",
       "      <th>4</th>\n",
       "      <td>1876-03-04</td>\n",
       "      <td>Scotland</td>\n",
       "      <td>England</td>\n",
       "      <td>3.0</td>\n",
       "      <td>0.0</td>\n",
       "      <td>Friendly</td>\n",
       "      <td>Glasgow</td>\n",
       "      <td>Scotland</td>\n",
       "      <td>False</td>\n",
       "      <td>Scotland</td>\n",
       "    </tr>\n",
       "  </tbody>\n",
       "</table>\n",
       "</div>"
      ],
      "text/plain": [
       "        date home_team away_team  home_score  away_score tournament     city  \\\n",
       "0 1872-11-30  Scotland   England         0.0         0.0   Friendly  Glasgow   \n",
       "1 1873-03-08   England  Scotland         4.0         2.0   Friendly   London   \n",
       "2 1874-03-07  Scotland   England         2.0         1.0   Friendly  Glasgow   \n",
       "3 1875-03-06   England  Scotland         2.0         2.0   Friendly   London   \n",
       "4 1876-03-04  Scotland   England         3.0         0.0   Friendly  Glasgow   \n",
       "\n",
       "    country neutral  win_team  \n",
       "0  Scotland   False       NaN  \n",
       "1   England   False   England  \n",
       "2  Scotland   False  Scotland  \n",
       "3   England   False       NaN  \n",
       "4  Scotland   False  Scotland  "
      ]
     },
     "execution_count": 24,
     "metadata": {},
     "output_type": "execute_result"
    }
   ],
   "source": [
    "fb_df = fb_df.assign(win_team = fb_df[(fb_df['home_score'] > fb_df['away_score'])]['home_team']) \n",
    "fb_df['win_team'] = fb_df['win_team'].fillna(fb_df[(fb_df['home_score'] < fb_df['away_score'])]['away_team'])\n",
    "fb_df.head()"
   ]
  },
  {
   "cell_type": "markdown",
   "metadata": {},
   "source": [
    "### Trả lời câu Hỏi"
   ]
  },
  {
   "cell_type": "markdown",
   "metadata": {},
   "source": [
    "##### top 5 đội bóng có số trận thắng nhiều nhất: \n",
    "Dưới đây sẽ liệt kê 5 theo thứ tự có số trận thắng nhiều thứ 1 đến nhiều thứ 2... gán vào biến top5_win_team"
   ]
  },
  {
   "cell_type": "code",
   "execution_count": 25,
   "metadata": {},
   "outputs": [
    {
     "data": {
      "text/plain": [
       "['Brazil', 'England', 'Germany', 'Argentina', 'Sweden']"
      ]
     },
     "execution_count": 25,
     "metadata": {},
     "output_type": "execute_result"
    }
   ],
   "source": [
    "top5_win_team = fb_df['win_team'].value_counts()[:5].index.to_list()\n",
    "top5_win_team"
   ]
  },
  {
   "cell_type": "markdown",
   "metadata": {},
   "source": [
    "##### top 5 đội bóng có thành tích giao hữu tốt nhất:\n",
    "Dưới đây sẽ liệt kê 5 theo thứ tự có số trận thắng nhiều thứ 1 đến nhiều thứ 2... gán vào biến top5_team_friendly"
   ]
  },
  {
   "cell_type": "code",
   "execution_count": 26,
   "metadata": {},
   "outputs": [
    {
     "data": {
      "text/plain": [
       "['Germany', 'Brazil', 'Hungary', 'Sweden', 'England']"
      ]
     },
     "execution_count": 26,
     "metadata": {},
     "output_type": "execute_result"
    }
   ],
   "source": [
    "top5_team_friendly = fb_df[(fb_df['tournament'] =='Friendly')]['win_team'].value_counts()[:5].index.to_list()\n",
    "top5_team_friendly"
   ]
  },
  {
   "cell_type": "markdown",
   "metadata": {},
   "source": [
    "### 2. Thành tích ghi bàn của đội tuyển Brazil thay đổi như thế nào qua 10 năm gần đây?"
   ]
  },
  {
   "cell_type": "markdown",
   "metadata": {},
   "source": [
    "### Tiền Xử Lý"
   ]
  },
  {
   "cell_type": "markdown",
   "metadata": {},
   "source": [
    "##### Thêm cột year vào fb_df"
   ]
  },
  {
   "cell_type": "code",
   "execution_count": 27,
   "metadata": {},
   "outputs": [
    {
     "data": {
      "text/plain": [
       "2021"
      ]
     },
     "execution_count": 27,
     "metadata": {},
     "output_type": "execute_result"
    }
   ],
   "source": [
    "fb_df = fb_df.assign(year = fb_df['date'].dt.year)\n",
    "fb_df['year'].max()"
   ]
  },
  {
   "cell_type": "markdown",
   "metadata": {},
   "source": [
    "#### Tính số bàn thắng của đội tuyển brazil trong 10 năm gần đây:\n",
    "- Đầu Tiên ta tính tổng số bàn thắng với tư cách là home_team và lưu vào biến Brazil_score_each_year.\n",
    "- Sau đó cộng thêm bàn thắng với tư cách là away_team và lưu vào biến Brazil_score_each_year.\n",
    "- lấy danh sách 10 năm gần đây và lưu vào biến Brazil_score_10_year"
   ]
  },
  {
   "cell_type": "code",
   "execution_count": 29,
   "metadata": {},
   "outputs": [
    {
     "data": {
      "text/plain": [
       "year\n",
       "2012    38.0\n",
       "2013    49.0\n",
       "2014    33.0\n",
       "2015    20.0\n",
       "2016    28.0\n",
       "2017    21.0\n",
       "2018    29.0\n",
       "2019    33.0\n",
       "2020    12.0\n",
       "2021    15.0\n",
       "Name: home_score, dtype: float64"
      ]
     },
     "execution_count": 29,
     "metadata": {},
     "output_type": "execute_result"
    }
   ],
   "source": [
    "Brazil_score_each_year = fb_df[(fb_df['home_team'] == 'Brazil')]['home_score'].groupby(fb_df['year']).sum()\n",
    "Brazil_score_each_year += fb_df[(fb_df['away_team'] == 'Brazil')]['away_score'].groupby(fb_df['year']).sum()\n",
    "Brazil_score_10_year = Brazil_score_each_year.iloc[-10:92]\n",
    "Brazil_score_10_year"
   ]
  },
  {
   "cell_type": "markdown",
   "metadata": {},
   "source": [
    "#### Đồ thị cột thể hiện số bàn thắng ghi được của đội tuyển Brazil trong 10 năm gần đây:"
   ]
  },
  {
   "cell_type": "code",
   "execution_count": 30,
   "metadata": {},
   "outputs": [
    {
     "data": {
      "image/png": "[encoded data removed]",
      "text/plain": [
       "<Figure size 432x288 with 1 Axes>"
      ]
     },
     "metadata": {
      "needs_background": "light"
     },
     "output_type": "display_data"
    }
   ],
   "source": [
    "Brazil_score_10_year.plot(kind = \"bar\")\n",
    "plt.ylabel('Score')\n",
    "plt.xlabel('Year');"
   ]
  },
  {
   "cell_type": "markdown",
   "metadata": {},
   "source": [
    "#### 3. Top 5 đội bóng mạnh nhất giai đoạn 1872-2021?"
   ]
  },
  {
   "cell_type": "code",
   "execution_count": 33,
   "metadata": {},
   "outputs": [],
   "source": [
    "def TotalPoint(country):\n",
    "        point = []\n",
    "        home = 0\n",
    "        ax = fb_df[(fb_df[\"home_team\"]==country) | (fb_df[\"away_team\"]==country)]\n",
    "        team = ax.iloc[:,1:3].values\n",
    "        score = ax.iloc[:,3:5].values\n",
    "        for i in range(len(ax)):\n",
    "            home = 0\n",
    "            if team[i][0]==country:\n",
    "                home = 1\n",
    "            if score[i][0] == score[i][1]:\n",
    "                point.append(1)\n",
    "            if home == 1 and score[i][0] > score[i][1]:\n",
    "                point.append(3)\n",
    "            if home == 0 and score[i][0] < score[i][1]:\n",
    "                point.append(3)\n",
    "            if home == 1 and score[i][0] < score[i][1]:\n",
    "                point.append(0)\n",
    "            if home == 0 and score[i][0] > score[i][1]:\n",
    "                point.append(0)      \n",
    "        point = pd.Series(point)  \n",
    "        return point.sum()"
   ]
  },
  {
   "cell_type": "code",
   "execution_count": 34,
   "metadata": {
    "scrolled": true
   },
   "outputs": [
    {
     "name": "stderr",
     "output_type": "stream",
     "text": [
      "<ipython-input-33-943f824a587d>:21: DeprecationWarning: The default dtype for empty Series will be 'object' instead of 'float64' in a future version. Specify a dtype explicitly to silence this warning.\n",
      "  point = pd.Series(point)\n"
     ]
    },
    {
     "data": {
      "text/html": [
       "<div>\n",
       "<style scoped>\n",
       "    .dataframe tbody tr th:only-of-type {\n",
       "        vertical-align: middle;\n",
       "    }\n",
       "\n",
       "    .dataframe tbody tr th {\n",
       "        vertical-align: top;\n",
       "    }\n",
       "\n",
       "    .dataframe thead th {\n",
       "        text-align: right;\n",
       "    }\n",
       "</style>\n",
       "<table border=\"1\" class=\"dataframe\">\n",
       "  <thead>\n",
       "    <tr style=\"text-align: right;\">\n",
       "      <th></th>\n",
       "      <th>Country</th>\n",
       "      <th>Total Point</th>\n",
       "    </tr>\n",
       "  </thead>\n",
       "  <tbody>\n",
       "    <tr>\n",
       "      <th>0</th>\n",
       "      <td>Scotland</td>\n",
       "      <td>1299</td>\n",
       "    </tr>\n",
       "    <tr>\n",
       "      <th>1</th>\n",
       "      <td>England</td>\n",
       "      <td>2002</td>\n",
       "    </tr>\n",
       "    <tr>\n",
       "      <th>2</th>\n",
       "      <td>Wales</td>\n",
       "      <td>793</td>\n",
       "    </tr>\n",
       "    <tr>\n",
       "      <th>3</th>\n",
       "      <td>Northern Ireland</td>\n",
       "      <td>651</td>\n",
       "    </tr>\n",
       "    <tr>\n",
       "      <th>4</th>\n",
       "      <td>United States</td>\n",
       "      <td>1051</td>\n",
       "    </tr>\n",
       "    <tr>\n",
       "      <th>...</th>\n",
       "      <td>...</td>\n",
       "      <td>...</td>\n",
       "    </tr>\n",
       "    <tr>\n",
       "      <th>308</th>\n",
       "      <td>NaN</td>\n",
       "      <td>0</td>\n",
       "    </tr>\n",
       "    <tr>\n",
       "      <th>309</th>\n",
       "      <td>Asturias</td>\n",
       "      <td>3</td>\n",
       "    </tr>\n",
       "    <tr>\n",
       "      <th>310</th>\n",
       "      <td>Western Australia</td>\n",
       "      <td>30</td>\n",
       "    </tr>\n",
       "    <tr>\n",
       "      <th>311</th>\n",
       "      <td>Two Sicilies</td>\n",
       "      <td>3</td>\n",
       "    </tr>\n",
       "    <tr>\n",
       "      <th>312</th>\n",
       "      <td>Surrey</td>\n",
       "      <td>3</td>\n",
       "    </tr>\n",
       "  </tbody>\n",
       "</table>\n",
       "<p>313 rows × 2 columns</p>\n",
       "</div>"
      ],
      "text/plain": [
       "               Country  Total Point\n",
       "0             Scotland         1299\n",
       "1              England         2002\n",
       "2                Wales          793\n",
       "3     Northern Ireland          651\n",
       "4        United States         1051\n",
       "..                 ...          ...\n",
       "308                NaN            0\n",
       "309           Asturias            3\n",
       "310  Western Australia           30\n",
       "311       Two Sicilies            3\n",
       "312             Surrey            3\n",
       "\n",
       "[313 rows x 2 columns]"
      ]
     },
     "execution_count": 34,
     "metadata": {},
     "output_type": "execute_result"
    }
   ],
   "source": [
    "point_data = {\"Country\":[],\n",
    "             \"Total Point\":[]}\n",
    "for country in pd.concat([fb_df.home_team, fb_df.away_team], axis=0).unique():\n",
    "    point_data[\"Country\"].append(country)\n",
    "    point_data[\"Total Point\"].append(int(TotalPoint(country)))\n",
    "point_df = pd.DataFrame(point_data)\n",
    "point_df"
   ]
  },
  {
   "cell_type": "code",
   "execution_count": 35,
   "metadata": {
    "scrolled": true
   },
   "outputs": [
    {
     "data": {
      "text/html": [
       "<div>\n",
       "<style scoped>\n",
       "    .dataframe tbody tr th:only-of-type {\n",
       "        vertical-align: middle;\n",
       "    }\n",
       "\n",
       "    .dataframe tbody tr th {\n",
       "        vertical-align: top;\n",
       "    }\n",
       "\n",
       "    .dataframe thead th {\n",
       "        text-align: right;\n",
       "    }\n",
       "</style>\n",
       "<table border=\"1\" class=\"dataframe\">\n",
       "  <thead>\n",
       "    <tr style=\"text-align: right;\">\n",
       "      <th></th>\n",
       "      <th>Total Point</th>\n",
       "      <th>Rank</th>\n",
       "    </tr>\n",
       "    <tr>\n",
       "      <th>Country</th>\n",
       "      <th></th>\n",
       "      <th></th>\n",
       "    </tr>\n",
       "  </thead>\n",
       "  <tbody>\n",
       "    <tr>\n",
       "      <th>Brazil</th>\n",
       "      <td>2113</td>\n",
       "      <td>1</td>\n",
       "    </tr>\n",
       "    <tr>\n",
       "      <th>England</th>\n",
       "      <td>2002</td>\n",
       "      <td>2</td>\n",
       "    </tr>\n",
       "    <tr>\n",
       "      <th>Germany</th>\n",
       "      <td>1889</td>\n",
       "      <td>3</td>\n",
       "    </tr>\n",
       "    <tr>\n",
       "      <th>Argentina</th>\n",
       "      <td>1847</td>\n",
       "      <td>4</td>\n",
       "    </tr>\n",
       "    <tr>\n",
       "      <th>Sweden</th>\n",
       "      <td>1756</td>\n",
       "      <td>5</td>\n",
       "    </tr>\n",
       "  </tbody>\n",
       "</table>\n",
       "</div>"
      ],
      "text/plain": [
       "           Total Point  Rank\n",
       "Country                     \n",
       "Brazil            2113     1\n",
       "England           2002     2\n",
       "Germany           1889     3\n",
       "Argentina         1847     4\n",
       "Sweden            1756     5"
      ]
     },
     "execution_count": 35,
     "metadata": {},
     "output_type": "execute_result"
    }
   ],
   "source": [
    "rank = len(point_df)\n",
    "ax = point_df.sort_values(\"Total Point\", ascending=False).set_index(\"Country\").head(rank)\n",
    "ax[\"Rank\"] = np.arange(1,rank+1)\n",
    "ax.head()"
   ]
  },
  {
   "cell_type": "markdown",
   "metadata": {},
   "source": [
    "## Lợi ích của việc trả lời câu hỏi:\n",
    "- Sắp theo theo thứ tự bảng xếp hạng của FIFA\n",
    "- Có thể tìm ra ứng cử viên cho chức vô địch của các mùa giải sắp xảy ra"
   ]
  },
  {
   "cell_type": "markdown",
   "metadata": {},
   "source": [
    "#### 4. Tỉ lệ thắng của đội tham gia Euro 2020?"
   ]
  },
  {
   "cell_type": "code",
   "execution_count": null,
   "metadata": {},
   "outputs": [],
   "source": []
  },
  {
   "cell_type": "markdown",
   "metadata": {},
   "source": [
    "## Nhìn lại quá trình làm đồ án"
   ]
  },
  {
   "cell_type": "markdown",
   "metadata": {},
   "source": [
    "### Khó khăn"
   ]
  },
  {
   "cell_type": "markdown",
   "metadata": {},
   "source": [
    "**Ngôn**\n",
    "- Setup môi trường hay lỗi\n",
    "- Môn học không thuộc chuyên ngành chính nên gặp khó khăn từ những khái niệm đầu\n",
    "- Giai đoạn làm đồ án trùng với giai đoạn nước rút của đồ án tốt nghiệp nên chưa sắp xếp được thời gian hợp lí để đầu tư vào môn học"
   ]
  },
  {
   "cell_type": "markdown",
   "metadata": {},
   "source": [
    "**Hoàng**"
   ]
  },
  {
   "cell_type": "markdown",
   "metadata": {},
   "source": [
    "### Những thứ học được"
   ]
  },
  {
   "cell_type": "markdown",
   "metadata": {},
   "source": [
    "**Ngôn**\n",
    "- Do từ chuyên ngành khác nên những gì học được đều mới và hữu ích\n"
   ]
  },
  {
   "cell_type": "markdown",
   "metadata": {},
   "source": [
    "## Tài liệu tham khảo"
   ]
  },
  {
   "cell_type": "markdown",
   "metadata": {},
   "source": [
    "- https://pandas.pydata.org/\n",
    "- https://www.kaggle.com/martj42/international-football-results-from-1872-to-2017\n",
    "- 3 file bài tập của môn học"
   ]
  }
 ],
 "metadata": {
  "kernelspec": {
   "display_name": "Python 3",
   "language": "python",
   "name": "python3"
  },
  "language_info": {
   "codemirror_mode": {
    "name": "ipython",
    "version": 3
   },
   "file_extension": ".py",
   "mimetype": "text/x-python",
   "name": "python",
   "nbconvert_exporter": "python",
   "pygments_lexer": "ipython3",
   "version": "3.8.5"
  }
 },
 "nbformat": 4,
 "nbformat_minor": 4
}
